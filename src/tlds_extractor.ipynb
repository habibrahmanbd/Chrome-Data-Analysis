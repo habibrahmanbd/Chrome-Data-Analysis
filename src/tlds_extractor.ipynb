{
 "cells": [
  {
   "cell_type": "code",
   "execution_count": 9,
   "metadata": {},
   "outputs": [],
   "source": [
    "from bs4 import BeautifulSoup\n",
    "import urllib.request"
   ]
  },
  {
   "cell_type": "code",
   "execution_count": 10,
   "metadata": {},
   "outputs": [],
   "source": [
    "class HTMLParser:\n",
    "    def __init__(self, url=None):\n",
    "        self.url = url\n",
    "    \n",
    "    def get_html(self):\n",
    "        html_file = None\n",
    "        try:\n",
    "            html_file = urllib.request.urlopen(self.url).read()\n",
    "        except:\n",
    "            print(\"Error in get_html()! Check the URL.\")\n",
    "        return html_file\n",
    "\n",
    "    def get_soup(self, html_file):\n",
    "        html_soup = None\n",
    "        try:\n",
    "            html_soup = BeautifulSoup(html_file, 'html.parser')\n",
    "        except:\n",
    "            print(\"Exception in get_soup()! Check the html_file.\")\n",
    "        return html_soup"
   ]
  },
  {
   "cell_type": "code",
   "execution_count": 11,
   "metadata": {},
   "outputs": [],
   "source": [
    "def table_to_csv(html_soup, selector):\n",
    "    table = html_soup.select(selector)\n",
    "    if table:\n",
    "        table = table[0]\n",
    "        rows = table.find_all('tr')\n",
    "        csv = []\n",
    "        for row in rows:\n",
    "            cols = row.find_all('td')\n",
    "            cols = [ele.text.strip() for ele in cols]\n",
    "            if len(cols) < 2:\n",
    "                continue\n",
    "            # remove the . from the first column\n",
    "            cols[0] = cols[0].replace('.', '')\n",
    "            # only add the first 2 columns\n",
    "            csv.append([ele for ele in cols[:2]])\n",
    "        return csv\n",
    "    else:\n",
    "        print(\"Error in table_to_csv()! Check the selector.\")\n",
    "        return None"
   ]
  },
  {
   "cell_type": "code",
   "execution_count": 12,
   "metadata": {},
   "outputs": [],
   "source": [
    "url = 'https://www.iana.org/domains/root/db'\n",
    "html_parser = HTMLParser(url)\n",
    "html_file = html_parser.get_html()\n",
    "html_soup = html_parser.get_soup(html_file)\n",
    "selector = '#tld-table'\n",
    "tlds_csv = table_to_csv(html_soup, selector)\n",
    "\n",
    "# Save the csv to a file\n",
    "with open('../data/tlds.csv', 'w') as file:\n",
    "    for index, row in enumerate(tlds_csv):\n",
    "        file.write(','.join(row) + '\\n' if index != len(tlds_csv) - 1 else ','.join(row))"
   ]
  }
 ],
 "metadata": {
  "kernelspec": {
   "display_name": "pytorch_m1_3.11",
   "language": "python",
   "name": "python3"
  },
  "language_info": {
   "codemirror_mode": {
    "name": "ipython",
    "version": 3
   },
   "file_extension": ".py",
   "mimetype": "text/x-python",
   "name": "python",
   "nbconvert_exporter": "python",
   "pygments_lexer": "ipython3",
   "version": "3.11.7"
  }
 },
 "nbformat": 4,
 "nbformat_minor": 2
}
